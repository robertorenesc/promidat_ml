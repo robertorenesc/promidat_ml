{
 "cells": [
  {
   "cell_type": "markdown",
   "metadata": {},
   "source": [
    "**1.** Investigue sobre paquete en Python que permiten realizar graficacion en 3D. Escoja en que mejor considere para resolver los siguientes ejercicios\n",
    "> Se ha escogido el paquete ***ipyvolume*** el cual se puede encontrar en la siguiente dirección: [https://ipyvolume.readthedocs.io/]"
   ]
  },
  {
   "cell_type": "markdown",
   "metadata": {},
   "source": [
    "**3.**Dibuje con colores los puntos de ambas clases en *R3* Debería verse algo similar a lo\n",
    "siguiente:"
   ]
  },
  {
   "cell_type": "code",
   "execution_count": 4,
   "metadata": {
    "scrolled": false
   },
   "outputs": [
    {
     "name": "stdout",
     "output_type": "stream",
     "text": [
      "     x    y    z color\n",
      "0  1.0  0.0  1.0   red\n",
      "1  1.0  0.0  2.0   red\n",
      "2  1.0  1.0  2.0   red\n",
      "3  3.0  1.0  4.0   red\n",
      "4  1.0  1.0  3.0   red\n",
      "5  3.0  2.0  3.0  blue\n",
      "6  1.0  2.0  1.0  blue\n",
      "7  3.0  2.0  1.0  blue\n",
      "8  1.0  1.0  0.0  blue\n"
     ]
    },
    {
     "data": {
      "application/vnd.jupyter.widget-view+json": {
       "model_id": "dce5749e624344ba8b6a6f9e87d3d1b1",
       "version_major": 2,
       "version_minor": 0
      },
      "text/plain": [
       "VBox(children=(Figure(camera=PerspectiveCamera(fov=46.0, position=(0.0, 0.0, 2.0), quaternion=(0.0, 0.0, 0.0, …"
      ]
     },
     "metadata": {},
     "output_type": "display_data"
    },
    {
     "name": "stdout",
     "output_type": "stream",
     "text": [
      "     0    1    2\n",
      "0  1.0  1.0  0.0\n",
      "1  3.0  2.0  3.0\n",
      "2  3.0  1.0  4.0\n",
      "3  1.0  0.0  1.0\n"
     ]
    }
   ],
   "source": [
    "from svm.CustomSVM import CustomSVM\n",
    "import pandas as pd\n",
    "\n",
    "plots = pd.DataFrame.from_dict({\n",
    "    \"x\": [1.0,1.0,1.0,3.0,1.0,3.0,1.0,3.0,1.0],\n",
    "    \"y\": [0.0,0.0,1.0,1.0,1.0,2.0,2.0,2.0,1.0],\n",
    "    \"z\": [1.0,2.0,2.0,4.0,3.0,3.0,1.0,1.0,0.0],\n",
    "    \"color\": [\"red\",\"red\",\"red\",\"red\",\"red\",\"blue\",\"blue\",\"blue\",\"blue\"]\n",
    "})\n",
    "\n",
    "print(plots)\n",
    "\n",
    "customModel = CustomSVM(plots)\n",
    "customModel.draw_plots()\n",
    "customModel.draw_hyperplane()"
   ]
  },
  {
   "cell_type": "markdown",
   "metadata": {},
   "source": [
    "**3.** Dibuje el hiperplano óptimo de separación e indique la ecuación de dicho hiperplano de la forma ax + by +cz +d = 01. \n",
    "> Nota: Se debe observar con detenimiento los puntos de ambas clases para encontrar los vectores de soporte de cada margen y trazar con estos puntos los hiperplanos de los m´argenes luego trazar el hiperplano de soporte justo en el centro."
   ]
  },
  {
   "cell_type": "code",
   "execution_count": 2,
   "metadata": {
    "scrolled": false
   },
   "outputs": [
    {
     "name": "stdout",
     "output_type": "stream",
     "text": [
      "     0    1    2\n",
      "0  1.0  1.0  0.0\n",
      "1  3.0  2.0  3.0\n",
      "2  3.0  1.0  4.0\n",
      "3  1.0  0.0  1.0\n",
      "0    0.0\n",
      "1    3.0\n",
      "2    4.0\n",
      "3    1.0\n",
      "Name: 2, dtype: float64\n"
     ]
    }
   ],
   "source": [
    "from method.SVMModel import SVMModel\n",
    "import ipyvolume as ipv\n",
    "import numpy as np\n",
    "\n",
    "model = SVMModel(plots)\n",
    "model.build_model(variable_predict = \"color\", train_size = 0.8)\n",
    "model.train_model(metadata = {\"kernel\": \"linear\"})\n",
    "vectors = pd.DataFrame(model.classifier_instance.support_vectors_)\n",
    "print(vectors)\n",
    "print(vectors.loc[:,2])\n",
    "#ipv.figure()\n",
    "#ipv.plot_surface(np.array(vectors.loc[:,0:1]), np.array(vectors.loc[:,1:2]), np.array(vectors.loc[:,0:1]),color=\"orange\")\n",
    "#ipv.show()"
   ]
  },
  {
   "cell_type": "code",
   "execution_count": null,
   "metadata": {},
   "outputs": [],
   "source": []
  }
 ],
 "metadata": {
  "kernelspec": {
   "display_name": "Python 3.6.9 64-bit ('promidat_env': venv)",
   "language": "python",
   "name": "python36964bitpromidatenvvenvbe4c69326a15425590a36f5001c8ac7d"
  },
  "language_info": {
   "codemirror_mode": {
    "name": "ipython",
    "version": 3
   },
   "file_extension": ".py",
   "mimetype": "text/x-python",
   "name": "python",
   "nbconvert_exporter": "python",
   "pygments_lexer": "ipython3",
   "version": "3.6.9"
  }
 },
 "nbformat": 4,
 "nbformat_minor": 4
}
